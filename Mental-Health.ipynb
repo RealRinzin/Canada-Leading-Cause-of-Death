{
 "cells": [
  {
   "cell_type": "code",
   "execution_count": 99,
   "metadata": {},
   "outputs": [
    {
     "name": "stdout",
     "output_type": "stream",
     "text": [
      "Requirement already satisfied: pandas in /opt/anaconda3/lib/python3.12/site-packages (2.2.2)\n",
      "Requirement already satisfied: numpy>=1.26.0 in /opt/anaconda3/lib/python3.12/site-packages (from pandas) (1.26.4)\n",
      "Requirement already satisfied: python-dateutil>=2.8.2 in /opt/anaconda3/lib/python3.12/site-packages (from pandas) (2.9.0.post0)\n",
      "Requirement already satisfied: pytz>=2020.1 in /opt/anaconda3/lib/python3.12/site-packages (from pandas) (2024.1)\n",
      "Requirement already satisfied: tzdata>=2022.7 in /opt/anaconda3/lib/python3.12/site-packages (from pandas) (2023.3)\n",
      "Requirement already satisfied: six>=1.5 in /opt/anaconda3/lib/python3.12/site-packages (from python-dateutil>=2.8.2->pandas) (1.16.0)\n"
     ]
    }
   ],
   "source": [
    "!pip install pandas"
   ]
  },
  {
   "cell_type": "markdown",
   "metadata": {},
   "source": [
    "Data Sources :\n",
    "https://www150.statcan.gc.ca/t1/tbl1/en/tv.action?pid=1310046501"
   ]
  },
  {
   "cell_type": "code",
   "execution_count": 100,
   "metadata": {},
   "outputs": [],
   "source": [
    "import pandas as pd \n"
   ]
  },
  {
   "cell_type": "code",
   "execution_count": 101,
   "metadata": {},
   "outputs": [],
   "source": [
    "# file = pd.read_csv('./13100465.csv')\n",
    "# file = pd.read_csv('./Canada-death-causes.csv')\n",
    "file = pd.read_csv('./Mental-health.csv')"
   ]
  },
  {
   "cell_type": "code",
   "execution_count": 102,
   "metadata": {},
   "outputs": [],
   "source": [
    "df = pd.DataFrame(file)"
   ]
  },
  {
   "cell_type": "code",
   "execution_count": 103,
   "metadata": {},
   "outputs": [
    {
     "data": {
      "text/plain": [
       "Index(['REF_DATE', 'GEO', 'DGUID', 'Age group', 'Gender', 'Indicators',\n",
       "       'Characteristics', 'UOM', 'UOM_ID', 'SCALAR_FACTOR', 'SCALAR_ID',\n",
       "       'VECTOR', 'COORDINATE', 'VALUE', 'STATUS', 'SYMBOL', 'TERMINATED',\n",
       "       'DECIMALS'],\n",
       "      dtype='object')"
      ]
     },
     "execution_count": 103,
     "metadata": {},
     "output_type": "execute_result"
    }
   ],
   "source": [
    "df.columns"
   ]
  },
  {
   "cell_type": "code",
   "execution_count": 104,
   "metadata": {},
   "outputs": [
    {
     "data": {
      "text/html": [
       "<div>\n",
       "<style scoped>\n",
       "    .dataframe tbody tr th:only-of-type {\n",
       "        vertical-align: middle;\n",
       "    }\n",
       "\n",
       "    .dataframe tbody tr th {\n",
       "        vertical-align: top;\n",
       "    }\n",
       "\n",
       "    .dataframe thead th {\n",
       "        text-align: right;\n",
       "    }\n",
       "</style>\n",
       "<table border=\"1\" class=\"dataframe\">\n",
       "  <thead>\n",
       "    <tr style=\"text-align: right;\">\n",
       "      <th></th>\n",
       "      <th>REF_DATE</th>\n",
       "      <th>GEO</th>\n",
       "      <th>DGUID</th>\n",
       "      <th>Age group</th>\n",
       "      <th>Gender</th>\n",
       "      <th>Indicators</th>\n",
       "      <th>Characteristics</th>\n",
       "      <th>UOM</th>\n",
       "      <th>UOM_ID</th>\n",
       "      <th>SCALAR_FACTOR</th>\n",
       "      <th>SCALAR_ID</th>\n",
       "      <th>VECTOR</th>\n",
       "      <th>COORDINATE</th>\n",
       "      <th>VALUE</th>\n",
       "      <th>STATUS</th>\n",
       "      <th>SYMBOL</th>\n",
       "      <th>TERMINATED</th>\n",
       "      <th>DECIMALS</th>\n",
       "    </tr>\n",
       "  </thead>\n",
       "  <tbody>\n",
       "    <tr>\n",
       "      <th>0</th>\n",
       "      <td>2002</td>\n",
       "      <td>Canada</td>\n",
       "      <td>2021A000011124</td>\n",
       "      <td>Total, 15 years and over</td>\n",
       "      <td>Total, gender of person</td>\n",
       "      <td>Major depressive episode, life</td>\n",
       "      <td>Number of persons</td>\n",
       "      <td>Number</td>\n",
       "      <td>223</td>\n",
       "      <td>units</td>\n",
       "      <td>0</td>\n",
       "      <td>v73953257</td>\n",
       "      <td>1.1.1.5.1</td>\n",
       "      <td>3037049.0</td>\n",
       "      <td>NaN</td>\n",
       "      <td>NaN</td>\n",
       "      <td>NaN</td>\n",
       "      <td>0</td>\n",
       "    </tr>\n",
       "    <tr>\n",
       "      <th>1</th>\n",
       "      <td>2002</td>\n",
       "      <td>Canada</td>\n",
       "      <td>2021A000011124</td>\n",
       "      <td>Total, 15 years and over</td>\n",
       "      <td>Total, gender of person</td>\n",
       "      <td>Major depressive episode, life</td>\n",
       "      <td>Low 95% confidence interval, number of persons</td>\n",
       "      <td>Number</td>\n",
       "      <td>223</td>\n",
       "      <td>units</td>\n",
       "      <td>0</td>\n",
       "      <td>v73953258</td>\n",
       "      <td>1.1.1.5.2</td>\n",
       "      <td>2913405.0</td>\n",
       "      <td>NaN</td>\n",
       "      <td>NaN</td>\n",
       "      <td>NaN</td>\n",
       "      <td>0</td>\n",
       "    </tr>\n",
       "    <tr>\n",
       "      <th>2</th>\n",
       "      <td>2002</td>\n",
       "      <td>Canada</td>\n",
       "      <td>2021A000011124</td>\n",
       "      <td>Total, 15 years and over</td>\n",
       "      <td>Total, gender of person</td>\n",
       "      <td>Major depressive episode, life</td>\n",
       "      <td>High 95% confidence interval, number of persons</td>\n",
       "      <td>Number</td>\n",
       "      <td>223</td>\n",
       "      <td>units</td>\n",
       "      <td>0</td>\n",
       "      <td>v73953259</td>\n",
       "      <td>1.1.1.5.3</td>\n",
       "      <td>3160692.0</td>\n",
       "      <td>NaN</td>\n",
       "      <td>NaN</td>\n",
       "      <td>NaN</td>\n",
       "      <td>0</td>\n",
       "    </tr>\n",
       "  </tbody>\n",
       "</table>\n",
       "</div>"
      ],
      "text/plain": [
       "   REF_DATE     GEO           DGUID                 Age group  \\\n",
       "0      2002  Canada  2021A000011124  Total, 15 years and over   \n",
       "1      2002  Canada  2021A000011124  Total, 15 years and over   \n",
       "2      2002  Canada  2021A000011124  Total, 15 years and over   \n",
       "\n",
       "                    Gender                      Indicators  \\\n",
       "0  Total, gender of person  Major depressive episode, life   \n",
       "1  Total, gender of person  Major depressive episode, life   \n",
       "2  Total, gender of person  Major depressive episode, life   \n",
       "\n",
       "                                   Characteristics     UOM  UOM_ID  \\\n",
       "0                                Number of persons  Number     223   \n",
       "1   Low 95% confidence interval, number of persons  Number     223   \n",
       "2  High 95% confidence interval, number of persons  Number     223   \n",
       "\n",
       "  SCALAR_FACTOR  SCALAR_ID     VECTOR COORDINATE      VALUE STATUS  SYMBOL  \\\n",
       "0         units          0  v73953257  1.1.1.5.1  3037049.0    NaN     NaN   \n",
       "1         units          0  v73953258  1.1.1.5.2  2913405.0    NaN     NaN   \n",
       "2         units          0  v73953259  1.1.1.5.3  3160692.0    NaN     NaN   \n",
       "\n",
       "   TERMINATED  DECIMALS  \n",
       "0         NaN         0  \n",
       "1         NaN         0  \n",
       "2         NaN         0  "
      ]
     },
     "execution_count": 104,
     "metadata": {},
     "output_type": "execute_result"
    }
   ],
   "source": [
    "df.head(3)"
   ]
  },
  {
   "cell_type": "code",
   "execution_count": 105,
   "metadata": {},
   "outputs": [],
   "source": [
    "df = df[df['UOM'] =='Number']"
   ]
  },
  {
   "cell_type": "code",
   "execution_count": 106,
   "metadata": {},
   "outputs": [],
   "source": [
    "df_clean = df.drop(columns=['UOM_ID','STATUS','DECIMALS','TERMINATED','STATUS','SCALAR_FACTOR','SCALAR_ID','SYMBOL','DGUID','VECTOR','COORDINATE'])"
   ]
  },
  {
   "cell_type": "code",
   "execution_count": 107,
   "metadata": {},
   "outputs": [],
   "source": [
    "df_clean.rename( columns={'REF_DATE':'Year','GEO':'Location','UOM':'Metrics','VALUE':'Total'},inplace=True)"
   ]
  },
  {
   "cell_type": "code",
   "execution_count": 108,
   "metadata": {},
   "outputs": [],
   "source": [
    "df_clean.dropna(subset=['Total'],inplace=True)"
   ]
  },
  {
   "cell_type": "code",
   "execution_count": 111,
   "metadata": {},
   "outputs": [],
   "source": [
    "df_clean = df_clean[\n",
    "    (df_clean['Location'] != 'Canada')&\n",
    "    (df_clean['Metrics'] == 'Number')&\n",
    "    ((df_clean['Year'] >= 2018)|(df_clean['Year'] <= 2022))\n",
    "    ]"
   ]
  },
  {
   "cell_type": "code",
   "execution_count": 112,
   "metadata": {},
   "outputs": [
    {
     "data": {
      "text/plain": [
       "array(['Atlantic Provinces', 'Newfoundland and Labrador',\n",
       "       'Prince Edward Island', 'Nova Scotia', 'New Brunswick', 'Quebec',\n",
       "       'Ontario', 'Prairie Provinces', 'Manitoba', 'Saskatchewan',\n",
       "       'Alberta', 'British Columbia'], dtype=object)"
      ]
     },
     "execution_count": 112,
     "metadata": {},
     "output_type": "execute_result"
    }
   ],
   "source": [
    "df_clean['Location'].unique()"
   ]
  },
  {
   "cell_type": "code",
   "execution_count": 113,
   "metadata": {},
   "outputs": [
    {
     "data": {
      "text/plain": [
       "array([2002, 2012, 2022])"
      ]
     },
     "execution_count": 113,
     "metadata": {},
     "output_type": "execute_result"
    }
   ],
   "source": [
    "df_clean['Year'].unique()"
   ]
  },
  {
   "cell_type": "code",
   "execution_count": 114,
   "metadata": {},
   "outputs": [
    {
     "data": {
      "text/html": [
       "<div>\n",
       "<style scoped>\n",
       "    .dataframe tbody tr th:only-of-type {\n",
       "        vertical-align: middle;\n",
       "    }\n",
       "\n",
       "    .dataframe tbody tr th {\n",
       "        vertical-align: top;\n",
       "    }\n",
       "\n",
       "    .dataframe thead th {\n",
       "        text-align: right;\n",
       "    }\n",
       "</style>\n",
       "<table border=\"1\" class=\"dataframe\">\n",
       "  <thead>\n",
       "    <tr style=\"text-align: right;\">\n",
       "      <th></th>\n",
       "      <th>Year</th>\n",
       "      <th>Location</th>\n",
       "      <th>Age group</th>\n",
       "      <th>Gender</th>\n",
       "      <th>Indicators</th>\n",
       "      <th>Characteristics</th>\n",
       "      <th>Metrics</th>\n",
       "      <th>Total</th>\n",
       "    </tr>\n",
       "  </thead>\n",
       "  <tbody>\n",
       "    <tr>\n",
       "      <th>2016</th>\n",
       "      <td>2002</td>\n",
       "      <td>Atlantic Provinces</td>\n",
       "      <td>Total, 15 years and over</td>\n",
       "      <td>Total, gender of person</td>\n",
       "      <td>Major depressive episode, life</td>\n",
       "      <td>Number of persons</td>\n",
       "      <td>Number</td>\n",
       "      <td>204631.0</td>\n",
       "    </tr>\n",
       "    <tr>\n",
       "      <th>2017</th>\n",
       "      <td>2002</td>\n",
       "      <td>Atlantic Provinces</td>\n",
       "      <td>Total, 15 years and over</td>\n",
       "      <td>Total, gender of person</td>\n",
       "      <td>Major depressive episode, life</td>\n",
       "      <td>Low 95% confidence interval, number of persons</td>\n",
       "      <td>Number</td>\n",
       "      <td>186557.0</td>\n",
       "    </tr>\n",
       "    <tr>\n",
       "      <th>2018</th>\n",
       "      <td>2002</td>\n",
       "      <td>Atlantic Provinces</td>\n",
       "      <td>Total, 15 years and over</td>\n",
       "      <td>Total, gender of person</td>\n",
       "      <td>Major depressive episode, life</td>\n",
       "      <td>High 95% confidence interval, number of persons</td>\n",
       "      <td>Number</td>\n",
       "      <td>222704.0</td>\n",
       "    </tr>\n",
       "    <tr>\n",
       "      <th>2019</th>\n",
       "      <td>2002</td>\n",
       "      <td>Atlantic Provinces</td>\n",
       "      <td>Total, 15 years and over</td>\n",
       "      <td>Total, gender of person</td>\n",
       "      <td>Major depressive episode, life</td>\n",
       "      <td>Coefficient of variation for number of persons</td>\n",
       "      <td>Number</td>\n",
       "      <td>45.0</td>\n",
       "    </tr>\n",
       "    <tr>\n",
       "      <th>2024</th>\n",
       "      <td>2002</td>\n",
       "      <td>Atlantic Provinces</td>\n",
       "      <td>Total, 15 years and over</td>\n",
       "      <td>Total, gender of person</td>\n",
       "      <td>Major depressive episode, 12 months</td>\n",
       "      <td>Number of persons</td>\n",
       "      <td>Number</td>\n",
       "      <td>74959.0</td>\n",
       "    </tr>\n",
       "    <tr>\n",
       "      <th>...</th>\n",
       "      <td>...</td>\n",
       "      <td>...</td>\n",
       "      <td>...</td>\n",
       "      <td>...</td>\n",
       "      <td>...</td>\n",
       "      <td>...</td>\n",
       "      <td>...</td>\n",
       "      <td>...</td>\n",
       "    </tr>\n",
       "    <tr>\n",
       "      <th>160945</th>\n",
       "      <td>2022</td>\n",
       "      <td>British Columbia</td>\n",
       "      <td>65 years and over</td>\n",
       "      <td>Women+</td>\n",
       "      <td>Perceived need for mental health care, all nee...</td>\n",
       "      <td>Low 95% confidence interval, number of persons</td>\n",
       "      <td>Number</td>\n",
       "      <td>41400.0</td>\n",
       "    </tr>\n",
       "    <tr>\n",
       "      <th>160946</th>\n",
       "      <td>2022</td>\n",
       "      <td>British Columbia</td>\n",
       "      <td>65 years and over</td>\n",
       "      <td>Women+</td>\n",
       "      <td>Perceived need for mental health care, all nee...</td>\n",
       "      <td>High 95% confidence interval, number of persons</td>\n",
       "      <td>Number</td>\n",
       "      <td>102800.0</td>\n",
       "    </tr>\n",
       "    <tr>\n",
       "      <th>160962</th>\n",
       "      <td>2022</td>\n",
       "      <td>British Columbia</td>\n",
       "      <td>65 years and over</td>\n",
       "      <td>Women+</td>\n",
       "      <td>Mental health services, professional consultat...</td>\n",
       "      <td>Number of persons</td>\n",
       "      <td>Number</td>\n",
       "      <td>40600.0</td>\n",
       "    </tr>\n",
       "    <tr>\n",
       "      <th>160963</th>\n",
       "      <td>2022</td>\n",
       "      <td>British Columbia</td>\n",
       "      <td>65 years and over</td>\n",
       "      <td>Women+</td>\n",
       "      <td>Mental health services, professional consultat...</td>\n",
       "      <td>Low 95% confidence interval, number of persons</td>\n",
       "      <td>Number</td>\n",
       "      <td>17900.0</td>\n",
       "    </tr>\n",
       "    <tr>\n",
       "      <th>160964</th>\n",
       "      <td>2022</td>\n",
       "      <td>British Columbia</td>\n",
       "      <td>65 years and over</td>\n",
       "      <td>Women+</td>\n",
       "      <td>Mental health services, professional consultat...</td>\n",
       "      <td>High 95% confidence interval, number of persons</td>\n",
       "      <td>Number</td>\n",
       "      <td>63200.0</td>\n",
       "    </tr>\n",
       "  </tbody>\n",
       "</table>\n",
       "<p>44866 rows × 8 columns</p>\n",
       "</div>"
      ],
      "text/plain": [
       "        Year            Location                 Age group  \\\n",
       "2016    2002  Atlantic Provinces  Total, 15 years and over   \n",
       "2017    2002  Atlantic Provinces  Total, 15 years and over   \n",
       "2018    2002  Atlantic Provinces  Total, 15 years and over   \n",
       "2019    2002  Atlantic Provinces  Total, 15 years and over   \n",
       "2024    2002  Atlantic Provinces  Total, 15 years and over   \n",
       "...      ...                 ...                       ...   \n",
       "160945  2022    British Columbia         65 years and over   \n",
       "160946  2022    British Columbia         65 years and over   \n",
       "160962  2022    British Columbia         65 years and over   \n",
       "160963  2022    British Columbia         65 years and over   \n",
       "160964  2022    British Columbia         65 years and over   \n",
       "\n",
       "                         Gender  \\\n",
       "2016    Total, gender of person   \n",
       "2017    Total, gender of person   \n",
       "2018    Total, gender of person   \n",
       "2019    Total, gender of person   \n",
       "2024    Total, gender of person   \n",
       "...                         ...   \n",
       "160945                   Women+   \n",
       "160946                   Women+   \n",
       "160962                   Women+   \n",
       "160963                   Women+   \n",
       "160964                   Women+   \n",
       "\n",
       "                                               Indicators  \\\n",
       "2016                       Major depressive episode, life   \n",
       "2017                       Major depressive episode, life   \n",
       "2018                       Major depressive episode, life   \n",
       "2019                       Major depressive episode, life   \n",
       "2024                  Major depressive episode, 12 months   \n",
       "...                                                   ...   \n",
       "160945  Perceived need for mental health care, all nee...   \n",
       "160946  Perceived need for mental health care, all nee...   \n",
       "160962  Mental health services, professional consultat...   \n",
       "160963  Mental health services, professional consultat...   \n",
       "160964  Mental health services, professional consultat...   \n",
       "\n",
       "                                        Characteristics Metrics     Total  \n",
       "2016                                  Number of persons  Number  204631.0  \n",
       "2017     Low 95% confidence interval, number of persons  Number  186557.0  \n",
       "2018    High 95% confidence interval, number of persons  Number  222704.0  \n",
       "2019     Coefficient of variation for number of persons  Number      45.0  \n",
       "2024                                  Number of persons  Number   74959.0  \n",
       "...                                                 ...     ...       ...  \n",
       "160945   Low 95% confidence interval, number of persons  Number   41400.0  \n",
       "160946  High 95% confidence interval, number of persons  Number  102800.0  \n",
       "160962                                Number of persons  Number   40600.0  \n",
       "160963   Low 95% confidence interval, number of persons  Number   17900.0  \n",
       "160964  High 95% confidence interval, number of persons  Number   63200.0  \n",
       "\n",
       "[44866 rows x 8 columns]"
      ]
     },
     "execution_count": 114,
     "metadata": {},
     "output_type": "execute_result"
    }
   ],
   "source": [
    "df_clean"
   ]
  },
  {
   "cell_type": "code",
   "execution_count": null,
   "metadata": {},
   "outputs": [],
   "source": []
  }
 ],
 "metadata": {
  "kernelspec": {
   "display_name": "base",
   "language": "python",
   "name": "python3"
  },
  "language_info": {
   "codemirror_mode": {
    "name": "ipython",
    "version": 3
   },
   "file_extension": ".py",
   "mimetype": "text/x-python",
   "name": "python",
   "nbconvert_exporter": "python",
   "pygments_lexer": "ipython3",
   "version": "3.12.4"
  }
 },
 "nbformat": 4,
 "nbformat_minor": 2
}
